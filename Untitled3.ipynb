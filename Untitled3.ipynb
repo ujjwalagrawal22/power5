{
  "nbformat": 4,
  "nbformat_minor": 0,
  "metadata": {
    "colab": {
      "name": "Untitled3.ipynb",
      "provenance": []
    },
    "kernelspec": {
      "name": "python3",
      "display_name": "Python 3"
    }
  },
  "cells": [
    {
      "cell_type": "code",
      "metadata": {
        "colab": {
          "base_uri": "https://localhost:8080/"
        },
        "id": "EvmVi38qDWn1",
        "outputId": "d184af21-ce38-45e3-ad07-f773921de57b"
      },
      "source": [
        "def powerfive(num):\r\n",
        "   return num**5;\r\n",
        "\r\n",
        "print(powerfive(2))"
      ],
      "execution_count": 2,
      "outputs": [
        {
          "output_type": "stream",
          "text": [
            "32\n"
          ],
          "name": "stdout"
        }
      ]
    }
  ]
}